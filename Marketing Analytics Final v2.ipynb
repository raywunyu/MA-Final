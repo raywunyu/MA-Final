{
 "cells": [
  {
   "cell_type": "code",
   "execution_count": 710,
   "metadata": {},
   "outputs": [],
   "source": [
    "import pandas as pd\n",
    "import numpy as np\n",
    "import pickle\n",
    "import matplotlib.pyplot as plt\n",
    "from sklearn.preprocessing import Normalizer\n",
    "import seaborn as sns\n",
    "from sklearn.model_selection import train_test_split\n",
    "from sklearn.preprocessing import StandardScaler\n",
    "from numpy import random\n",
    "from sklearn.cluster import KMeans\n",
    "from sklearn.tree import plot_tree"
   ]
  },
  {
   "cell_type": "code",
   "execution_count": 683,
   "metadata": {},
   "outputs": [],
   "source": [
    "#reading in datasets\n",
    "pickle_in = open(\"subscribers\",\"rb\")\n",
    "subs = pickle.load(pickle_in)\n",
    "pickle_in = open(\"engagement\",\"rb\")\n",
    "eng = pickle.load(pickle_in)\n",
    "pickle_in = open(\"customer_service_reps\",\"rb\")\n",
    "csr = pickle.load(pickle_in)"
   ]
  },
  {
   "cell_type": "code",
   "execution_count": 658,
   "metadata": {},
   "outputs": [],
   "source": [
    "ads=pd.read_csv('adspend.csv')"
   ]
  },
  {
   "cell_type": "markdown",
   "metadata": {},
   "source": [
    "## Data Prep"
   ]
  },
  {
   "cell_type": "code",
   "execution_count": 659,
   "metadata": {},
   "outputs": [],
   "source": [
    "#change adspend data layout; divide june cost by 30 since only one day was recorded\n",
    "\n",
    "ads=ads.set_index('date')\n",
    "ads=ads.stack().reset_index().rename(columns={'date':'months','level_1':'channel',0:'cost'})\n",
    "ads.cost=ads.cost.str.replace(',','').astype(float)\n",
    "ads['months']=pd.to_datetime(ads['months'])\n",
    "ads['months']=ads.months.dt.month\n",
    "ads['cost']=np.where(ads.months==6,ads.cost/30,ads.cost)"
   ]
  },
  {
   "cell_type": "code",
   "execution_count": 660,
   "metadata": {},
   "outputs": [],
   "source": [
    "#convert dates to month for merging\n",
    "\n",
    "subs['channel']=subs.attribution_technical\n",
    "subs['months']=subs.account_creation_date.dt.month"
   ]
  },
  {
   "cell_type": "markdown",
   "metadata": {},
   "source": [
    "# CAC"
   ]
  },
  {
   "cell_type": "code",
   "execution_count": 662,
   "metadata": {
    "collapsed": true
   },
   "outputs": [
    {
     "data": {
      "text/plain": [
       "<matplotlib.axes._subplots.AxesSubplot at 0x1516d37f0>"
      ]
     },
     "execution_count": 662,
     "metadata": {},
     "output_type": "execute_result"
    },
    {
     "data": {
      "image/png": "[encoded data removed]",
      "text/plain": [
       "<Figure size 432x288 with 1 Axes>"
      ]
     },
     "metadata": {
      "needs_background": "light"
     },
     "output_type": "display_data"
    }
   ],
   "source": [
    "#plot channel by number of sign ups\n",
    "subs.groupby('attribution_technical')['subid'].nunique().reset_index()\\\n",
    ".sort_values(by='subid',ascending=False)\\\n",
    ".plot.bar(x='attribution_technical',y='subid',title='Sign ups by channel')"
   ]
  },
  {
   "cell_type": "code",
   "execution_count": 663,
   "metadata": {
    "collapsed": true
   },
   "outputs": [
    {
     "data": {
      "text/html": [
       "<div>\n",
       "<style scoped>\n",
       "    .dataframe tbody tr th:only-of-type {\n",
       "        vertical-align: middle;\n",
       "    }\n",
       "\n",
       "    .dataframe tbody tr th {\n",
       "        vertical-align: top;\n",
       "    }\n",
       "\n",
       "    .dataframe thead th {\n",
       "        text-align: right;\n",
       "    }\n",
       "</style>\n",
       "<table border=\"1\" class=\"dataframe\">\n",
       "  <thead>\n",
       "    <tr style=\"text-align: right;\">\n",
       "      <th></th>\n",
       "      <th>attribution_technical</th>\n",
       "      <th>subid</th>\n",
       "      <th>perc</th>\n",
       "    </tr>\n",
       "  </thead>\n",
       "  <tbody>\n",
       "    <tr>\n",
       "      <th>13</th>\n",
       "      <td>facebook</td>\n",
       "      <td>80251</td>\n",
       "      <td>0.352553</td>\n",
       "    </tr>\n",
       "    <tr>\n",
       "      <th>11</th>\n",
       "      <td>email</td>\n",
       "      <td>25690</td>\n",
       "      <td>0.112860</td>\n",
       "    </tr>\n",
       "    <tr>\n",
       "      <th>28</th>\n",
       "      <td>search</td>\n",
       "      <td>25306</td>\n",
       "      <td>0.111173</td>\n",
       "    </tr>\n",
       "    <tr>\n",
       "      <th>18</th>\n",
       "      <td>organic</td>\n",
       "      <td>22013</td>\n",
       "      <td>0.096706</td>\n",
       "    </tr>\n",
       "    <tr>\n",
       "      <th>5</th>\n",
       "      <td>brand sem intent google</td>\n",
       "      <td>18524</td>\n",
       "      <td>0.081378</td>\n",
       "    </tr>\n",
       "    <tr>\n",
       "      <th>15</th>\n",
       "      <td>google_organic</td>\n",
       "      <td>10691</td>\n",
       "      <td>0.046967</td>\n",
       "    </tr>\n",
       "    <tr>\n",
       "      <th>0</th>\n",
       "      <td>affiliate</td>\n",
       "      <td>9894</td>\n",
       "      <td>0.043466</td>\n",
       "    </tr>\n",
       "    <tr>\n",
       "      <th>12</th>\n",
       "      <td>email_blast</td>\n",
       "      <td>7277</td>\n",
       "      <td>0.031969</td>\n",
       "    </tr>\n",
       "    <tr>\n",
       "      <th>21</th>\n",
       "      <td>pinterest</td>\n",
       "      <td>6065</td>\n",
       "      <td>0.026644</td>\n",
       "    </tr>\n",
       "    <tr>\n",
       "      <th>26</th>\n",
       "      <td>referral</td>\n",
       "      <td>5170</td>\n",
       "      <td>0.022712</td>\n",
       "    </tr>\n",
       "    <tr>\n",
       "      <th>14</th>\n",
       "      <td>facebook_organic</td>\n",
       "      <td>3272</td>\n",
       "      <td>0.014374</td>\n",
       "    </tr>\n",
       "    <tr>\n",
       "      <th>9</th>\n",
       "      <td>discovery</td>\n",
       "      <td>2571</td>\n",
       "      <td>0.011295</td>\n",
       "    </tr>\n",
       "    <tr>\n",
       "      <th>4</th>\n",
       "      <td>brand sem intent bing</td>\n",
       "      <td>2231</td>\n",
       "      <td>0.009801</td>\n",
       "    </tr>\n",
       "    <tr>\n",
       "      <th>19</th>\n",
       "      <td>other</td>\n",
       "      <td>1786</td>\n",
       "      <td>0.007846</td>\n",
       "    </tr>\n",
       "    <tr>\n",
       "      <th>10</th>\n",
       "      <td>display</td>\n",
       "      <td>1407</td>\n",
       "      <td>0.006181</td>\n",
       "    </tr>\n",
       "    <tr>\n",
       "      <th>2</th>\n",
       "      <td>bing</td>\n",
       "      <td>1146</td>\n",
       "      <td>0.005035</td>\n",
       "    </tr>\n",
       "    <tr>\n",
       "      <th>17</th>\n",
       "      <td>internal</td>\n",
       "      <td>1122</td>\n",
       "      <td>0.004929</td>\n",
       "    </tr>\n",
       "    <tr>\n",
       "      <th>24</th>\n",
       "      <td>podcast</td>\n",
       "      <td>985</td>\n",
       "      <td>0.004327</td>\n",
       "    </tr>\n",
       "    <tr>\n",
       "      <th>32</th>\n",
       "      <td>youtube</td>\n",
       "      <td>913</td>\n",
       "      <td>0.004011</td>\n",
       "    </tr>\n",
       "    <tr>\n",
       "      <th>3</th>\n",
       "      <td>bing_organic</td>\n",
       "      <td>369</td>\n",
       "      <td>0.001621</td>\n",
       "    </tr>\n",
       "    <tr>\n",
       "      <th>31</th>\n",
       "      <td>vod</td>\n",
       "      <td>297</td>\n",
       "      <td>0.001305</td>\n",
       "    </tr>\n",
       "    <tr>\n",
       "      <th>20</th>\n",
       "      <td>ott</td>\n",
       "      <td>158</td>\n",
       "      <td>0.000694</td>\n",
       "    </tr>\n",
       "    <tr>\n",
       "      <th>8</th>\n",
       "      <td>direct_mail</td>\n",
       "      <td>139</td>\n",
       "      <td>0.000611</td>\n",
       "    </tr>\n",
       "    <tr>\n",
       "      <th>25</th>\n",
       "      <td>quora</td>\n",
       "      <td>100</td>\n",
       "      <td>0.000439</td>\n",
       "    </tr>\n",
       "    <tr>\n",
       "      <th>27</th>\n",
       "      <td>samsung</td>\n",
       "      <td>86</td>\n",
       "      <td>0.000378</td>\n",
       "    </tr>\n",
       "    <tr>\n",
       "      <th>1</th>\n",
       "      <td>appstore</td>\n",
       "      <td>44</td>\n",
       "      <td>0.000193</td>\n",
       "    </tr>\n",
       "    <tr>\n",
       "      <th>7</th>\n",
       "      <td>criteo</td>\n",
       "      <td>44</td>\n",
       "      <td>0.000193</td>\n",
       "    </tr>\n",
       "    <tr>\n",
       "      <th>22</th>\n",
       "      <td>pinterest_organic</td>\n",
       "      <td>30</td>\n",
       "      <td>0.000132</td>\n",
       "    </tr>\n",
       "    <tr>\n",
       "      <th>16</th>\n",
       "      <td>influencer</td>\n",
       "      <td>21</td>\n",
       "      <td>0.000092</td>\n",
       "    </tr>\n",
       "    <tr>\n",
       "      <th>23</th>\n",
       "      <td>playstore</td>\n",
       "      <td>12</td>\n",
       "      <td>0.000053</td>\n",
       "    </tr>\n",
       "    <tr>\n",
       "      <th>6</th>\n",
       "      <td>content_greatist</td>\n",
       "      <td>5</td>\n",
       "      <td>0.000022</td>\n",
       "    </tr>\n",
       "    <tr>\n",
       "      <th>30</th>\n",
       "      <td>twitter</td>\n",
       "      <td>5</td>\n",
       "      <td>0.000022</td>\n",
       "    </tr>\n",
       "    <tr>\n",
       "      <th>29</th>\n",
       "      <td>tv</td>\n",
       "      <td>4</td>\n",
       "      <td>0.000018</td>\n",
       "    </tr>\n",
       "  </tbody>\n",
       "</table>\n",
       "</div>"
      ],
      "text/plain": [
       "      attribution_technical  subid      perc\n",
       "13                 facebook  80251  0.352553\n",
       "11                    email  25690  0.112860\n",
       "28                   search  25306  0.111173\n",
       "18                  organic  22013  0.096706\n",
       "5   brand sem intent google  18524  0.081378\n",
       "15           google_organic  10691  0.046967\n",
       "0                 affiliate   9894  0.043466\n",
       "12              email_blast   7277  0.031969\n",
       "21                pinterest   6065  0.026644\n",
       "26                 referral   5170  0.022712\n",
       "14         facebook_organic   3272  0.014374\n",
       "9                 discovery   2571  0.011295\n",
       "4     brand sem intent bing   2231  0.009801\n",
       "19                    other   1786  0.007846\n",
       "10                  display   1407  0.006181\n",
       "2                      bing   1146  0.005035\n",
       "17                 internal   1122  0.004929\n",
       "24                  podcast    985  0.004327\n",
       "32                  youtube    913  0.004011\n",
       "3              bing_organic    369  0.001621\n",
       "31                      vod    297  0.001305\n",
       "20                      ott    158  0.000694\n",
       "8               direct_mail    139  0.000611\n",
       "25                    quora    100  0.000439\n",
       "27                  samsung     86  0.000378\n",
       "1                  appstore     44  0.000193\n",
       "7                    criteo     44  0.000193\n",
       "22        pinterest_organic     30  0.000132\n",
       "16               influencer     21  0.000092\n",
       "23                playstore     12  0.000053\n",
       "6          content_greatist      5  0.000022\n",
       "30                  twitter      5  0.000022\n",
       "29                       tv      4  0.000018"
      ]
     },
     "execution_count": 663,
     "metadata": {},
     "output_type": "execute_result"
    }
   ],
   "source": [
    "#percentage of sign ups from each channel\n",
    "df=subs.groupby('attribution_technical')['subid'].nunique().reset_index()\\\n",
    ".sort_values(by='subid',ascending=False)\n",
    "df['perc']=df.subid/df['subid'].sum()\n",
    "df"
   ]
  },
  {
   "cell_type": "code",
   "execution_count": 664,
   "metadata": {},
   "outputs": [],
   "source": [
    "#return dataset with only users who went through adspend channels \n",
    "\n",
    "tech_att=pd.merge(subs,ads,on=['months','channel'])\n"
   ]
  },
  {
   "cell_type": "code",
   "execution_count": 665,
   "metadata": {},
   "outputs": [],
   "source": [
    "#only return customers who are new and not in June\n",
    "\n",
    "tech_att=tech_att[tech_att.retarget_TF==False]"
   ]
  },
  {
   "cell_type": "code",
   "execution_count": 666,
   "metadata": {},
   "outputs": [
    {
     "data": {
      "text/plain": [
       "(array([0, 1, 2, 3, 4, 5, 6, 7]), <a list of 8 Text xticklabel objects>)"
      ]
     },
     "execution_count": 666,
     "metadata": {},
     "output_type": "execute_result"
    },
    {
     "data": {
      "image/png": "[encoded data removed]",
      "text/plain": [
       "<Figure size 1080x720 with 1 Axes>"
      ]
     },
     "metadata": {
      "needs_background": "light"
     },
     "output_type": "display_data"
    }
   ],
   "source": [
    "#plot channel by number of sign ups\n",
    "tech_att.groupby('attribution_technical')['subid'].nunique().reset_index()\\\n",
    ".sort_values(by='subid',ascending=False)\\\n",
    ".plot.bar(x='attribution_technical',y='subid',title='Sign ups by Channel',figsize=(15,10),legend=None)\n",
    "plt.xticks(rotation = 0)\n",
    "\n"
   ]
  },
  {
   "cell_type": "code",
   "execution_count": 667,
   "metadata": {},
   "outputs": [
    {
     "data": {
      "text/html": [
       "<div>\n",
       "<style scoped>\n",
       "    .dataframe tbody tr th:only-of-type {\n",
       "        vertical-align: middle;\n",
       "    }\n",
       "\n",
       "    .dataframe tbody tr th {\n",
       "        vertical-align: top;\n",
       "    }\n",
       "\n",
       "    .dataframe thead th {\n",
       "        text-align: right;\n",
       "    }\n",
       "</style>\n",
       "<table border=\"1\" class=\"dataframe\">\n",
       "  <thead>\n",
       "    <tr style=\"text-align: right;\">\n",
       "      <th></th>\n",
       "      <th>attribution_technical</th>\n",
       "      <th>subid</th>\n",
       "      <th>perc</th>\n",
       "    </tr>\n",
       "  </thead>\n",
       "  <tbody>\n",
       "    <tr>\n",
       "      <th>4</th>\n",
       "      <td>facebook</td>\n",
       "      <td>77567</td>\n",
       "      <td>0.449307</td>\n",
       "    </tr>\n",
       "    <tr>\n",
       "      <th>2</th>\n",
       "      <td>email</td>\n",
       "      <td>25580</td>\n",
       "      <td>0.148172</td>\n",
       "    </tr>\n",
       "    <tr>\n",
       "      <th>7</th>\n",
       "      <td>search</td>\n",
       "      <td>24390</td>\n",
       "      <td>0.141279</td>\n",
       "    </tr>\n",
       "    <tr>\n",
       "      <th>1</th>\n",
       "      <td>brand sem intent google</td>\n",
       "      <td>17864</td>\n",
       "      <td>0.103477</td>\n",
       "    </tr>\n",
       "    <tr>\n",
       "      <th>0</th>\n",
       "      <td>affiliate</td>\n",
       "      <td>9563</td>\n",
       "      <td>0.055394</td>\n",
       "    </tr>\n",
       "    <tr>\n",
       "      <th>3</th>\n",
       "      <td>email_blast</td>\n",
       "      <td>6810</td>\n",
       "      <td>0.039447</td>\n",
       "    </tr>\n",
       "    <tr>\n",
       "      <th>5</th>\n",
       "      <td>pinterest</td>\n",
       "      <td>5899</td>\n",
       "      <td>0.034170</td>\n",
       "    </tr>\n",
       "    <tr>\n",
       "      <th>6</th>\n",
       "      <td>referral</td>\n",
       "      <td>4964</td>\n",
       "      <td>0.028754</td>\n",
       "    </tr>\n",
       "  </tbody>\n",
       "</table>\n",
       "</div>"
      ],
      "text/plain": [
       "     attribution_technical  subid      perc\n",
       "4                 facebook  77567  0.449307\n",
       "2                    email  25580  0.148172\n",
       "7                   search  24390  0.141279\n",
       "1  brand sem intent google  17864  0.103477\n",
       "0                affiliate   9563  0.055394\n",
       "3              email_blast   6810  0.039447\n",
       "5                pinterest   5899  0.034170\n",
       "6                 referral   4964  0.028754"
      ]
     },
     "execution_count": 667,
     "metadata": {},
     "output_type": "execute_result"
    }
   ],
   "source": [
    "#percentage of sign ups from each channel\n",
    "df=tech_att.groupby('attribution_technical')['subid'].nunique().reset_index()\\\n",
    ".sort_values(by='subid',ascending=False)\n",
    "df['perc']=df.subid/df['subid'].sum()\n",
    "df"
   ]
  },
  {
   "cell_type": "code",
   "execution_count": 668,
   "metadata": {},
   "outputs": [
    {
     "data": {
      "text/html": [
       "<div>\n",
       "<style scoped>\n",
       "    .dataframe tbody tr th:only-of-type {\n",
       "        vertical-align: middle;\n",
       "    }\n",
       "\n",
       "    .dataframe tbody tr th {\n",
       "        vertical-align: top;\n",
       "    }\n",
       "\n",
       "    .dataframe thead th {\n",
       "        text-align: right;\n",
       "    }\n",
       "</style>\n",
       "<table border=\"1\" class=\"dataframe\">\n",
       "  <thead>\n",
       "    <tr style=\"text-align: right;\">\n",
       "      <th></th>\n",
       "      <th>months</th>\n",
       "      <th>channel</th>\n",
       "      <th>signups</th>\n",
       "      <th>spend</th>\n",
       "      <th>cac_channel</th>\n",
       "    </tr>\n",
       "  </thead>\n",
       "  <tbody>\n",
       "    <tr>\n",
       "      <th>0</th>\n",
       "      <td>1</td>\n",
       "      <td>affiliate</td>\n",
       "      <td>1026</td>\n",
       "      <td>14300.0</td>\n",
       "      <td>13.937622</td>\n",
       "    </tr>\n",
       "    <tr>\n",
       "      <th>1</th>\n",
       "      <td>1</td>\n",
       "      <td>brand sem intent google</td>\n",
       "      <td>2535</td>\n",
       "      <td>22700.0</td>\n",
       "      <td>8.954635</td>\n",
       "    </tr>\n",
       "    <tr>\n",
       "      <th>2</th>\n",
       "      <td>1</td>\n",
       "      <td>email</td>\n",
       "      <td>2362</td>\n",
       "      <td>75500.0</td>\n",
       "      <td>31.964437</td>\n",
       "    </tr>\n",
       "    <tr>\n",
       "      <th>3</th>\n",
       "      <td>1</td>\n",
       "      <td>email_blast</td>\n",
       "      <td>30</td>\n",
       "      <td>300.0</td>\n",
       "      <td>10.000000</td>\n",
       "    </tr>\n",
       "    <tr>\n",
       "      <th>4</th>\n",
       "      <td>1</td>\n",
       "      <td>facebook</td>\n",
       "      <td>6036</td>\n",
       "      <td>49000.0</td>\n",
       "      <td>8.117959</td>\n",
       "    </tr>\n",
       "    <tr>\n",
       "      <th>...</th>\n",
       "      <td>...</td>\n",
       "      <td>...</td>\n",
       "      <td>...</td>\n",
       "      <td>...</td>\n",
       "      <td>...</td>\n",
       "    </tr>\n",
       "    <tr>\n",
       "      <th>75</th>\n",
       "      <td>12</td>\n",
       "      <td>email_blast</td>\n",
       "      <td>403</td>\n",
       "      <td>3500.0</td>\n",
       "      <td>8.684864</td>\n",
       "    </tr>\n",
       "    <tr>\n",
       "      <th>76</th>\n",
       "      <td>12</td>\n",
       "      <td>facebook</td>\n",
       "      <td>8935</td>\n",
       "      <td>51400.0</td>\n",
       "      <td>5.752658</td>\n",
       "    </tr>\n",
       "    <tr>\n",
       "      <th>77</th>\n",
       "      <td>12</td>\n",
       "      <td>pinterest</td>\n",
       "      <td>835</td>\n",
       "      <td>7200.0</td>\n",
       "      <td>8.622754</td>\n",
       "    </tr>\n",
       "    <tr>\n",
       "      <th>78</th>\n",
       "      <td>12</td>\n",
       "      <td>referral</td>\n",
       "      <td>633</td>\n",
       "      <td>8000.0</td>\n",
       "      <td>12.638231</td>\n",
       "    </tr>\n",
       "    <tr>\n",
       "      <th>79</th>\n",
       "      <td>12</td>\n",
       "      <td>search</td>\n",
       "      <td>3617</td>\n",
       "      <td>32100.0</td>\n",
       "      <td>8.874758</td>\n",
       "    </tr>\n",
       "  </tbody>\n",
       "</table>\n",
       "<p>80 rows × 5 columns</p>\n",
       "</div>"
      ],
      "text/plain": [
       "    months                  channel  signups    spend  cac_channel\n",
       "0        1                affiliate     1026  14300.0    13.937622\n",
       "1        1  brand sem intent google     2535  22700.0     8.954635\n",
       "2        1                    email     2362  75500.0    31.964437\n",
       "3        1              email_blast       30    300.0    10.000000\n",
       "4        1                 facebook     6036  49000.0     8.117959\n",
       "..     ...                      ...      ...      ...          ...\n",
       "75      12              email_blast      403   3500.0     8.684864\n",
       "76      12                 facebook     8935  51400.0     5.752658\n",
       "77      12                pinterest      835   7200.0     8.622754\n",
       "78      12                 referral      633   8000.0    12.638231\n",
       "79      12                   search     3617  32100.0     8.874758\n",
       "\n",
       "[80 rows x 5 columns]"
      ]
     },
     "execution_count": 668,
     "metadata": {},
     "output_type": "execute_result"
    }
   ],
   "source": [
    "df1=tech_att.groupby(['months','channel']).agg(\n",
    "    signups=('subid','count'),\n",
    "    spend=('cost','mean')).reset_index()\n",
    "\n",
    "df1['cac_channel']=df1.spend/df1.signups\n",
    "df1"
   ]
  },
  {
   "cell_type": "code",
   "execution_count": 679,
   "metadata": {},
   "outputs": [],
   "source": [
    "df2=df1.groupby('months').agg(\n",
    "total_spend=('spend','sum'),\n",
    "total_signups=('signups','sum')).reset_index()\n",
    "\n",
    "df2['cac_month']=df2.total_spend/df2.total_signups\n",
    "df2"
   ]
  },
  {
   "cell_type": "markdown",
   "metadata": {},
   "source": [
    "# Clustering"
   ]
  },
  {
   "cell_type": "code",
   "execution_count": 717,
   "metadata": {},
   "outputs": [],
   "source": [
    "#reading in datasets\n",
    "pickle_in = open(\"subscribers\",\"rb\")\n",
    "subs = pickle.load(pickle_in)\n",
    "pickle_in = open(\"engagement\",\"rb\")\n",
    "eng = pickle.load(pickle_in)\n",
    "pickle_in = open(\"customer_service_reps\",\"rb\")\n",
    "csr = pickle.load(pickle_in)"
   ]
  },
  {
   "cell_type": "code",
   "execution_count": 718,
   "metadata": {},
   "outputs": [],
   "source": [
    "#return engagement data from trial period only\n",
    "\n",
    "eng0=eng[eng.payment_period==0]"
   ]
  },
  {
   "cell_type": "code",
   "execution_count": 721,
   "metadata": {},
   "outputs": [],
   "source": [
    "#create features to roll up to subscriber level\n",
    "\n",
    "df_eng0=eng0.groupby(['subid']).agg(\n",
    "    days=('date','nunique'),\n",
    "    appopens=('app_opens','sum'),\n",
    "    vids_complete=('num_videos_completed','sum'),\n",
    "    num_vids_30sec=('num_videos_more_than_30_seconds','sum'),\n",
    "    num_vids_rated=('num_videos_rated','sum'),\n",
    "    series_starts=('num_series_started','sum'),\n",
    "    max_date=('date','max'),\n",
    "    min_date=('date','min'),\n",
    "    mssgs=('cust_service_mssgs','sum')\n",
    ").reset_index()\n",
    "\n",
    "df_eng0['duration']=(df_eng0.max_date-df_eng0.min_date).dt.days+1\n",
    "df_eng0['opensperday']=df_eng0.appopens/df_eng0.days\n",
    "df_eng0['perc_complete'] = df_eng0.apply(lambda x: 0 if x['num_vids_30sec']==0 else x['vids_complete']/x['num_vids_30sec'], axis=1)\n",
    "df_eng0['perc_rate'] = df_eng0.apply(lambda x: 0 if x['vids_complete']==0 else x['num_vids_rated']/x['vids_complete'], axis=1)\n",
    "df_eng0['seriesperopen'] = df_eng0.apply(lambda x: 0 if x['appopens']==0 else x['series_starts']/x['appopens'], axis=1)\n",
    "df_eng0['vidscompperday']=df_eng0.vids_complete/df_eng0.days\n",
    "df_eng0['vidswatchperday']=df_eng0.num_vids_30sec/df_eng0.days\n",
    "df_eng0['seriesperday']=df_eng0.series_starts/df_eng0.days\n",
    "df_eng0['mssgsperday']=df_eng0.mssgs/df_eng0.days\n",
    "df_eng0['daysperduration']=df_eng0.days/df_eng0.duration"
   ]
  },
  {
   "cell_type": "code",
   "execution_count": 847,
   "metadata": {},
   "outputs": [],
   "source": [
    "df_se0=pd.merge(subs,df_eng0,on='subid')"
   ]
  },
  {
   "cell_type": "code",
   "execution_count": 848,
   "metadata": {},
   "outputs": [],
   "source": [
    "df_se0=df_se0[(df_se0.retarget_TF==False)]"
   ]
  },
  {
   "cell_type": "code",
   "execution_count": 849,
   "metadata": {},
   "outputs": [],
   "source": [
    "# based on engagement data\n",
    "kmdf=df_se0[['appopens','vids_complete','num_vids_30sec','series_starts','mssgs']]"
   ]
  },
  {
   "cell_type": "code",
   "execution_count": 850,
   "metadata": {},
   "outputs": [
    {
     "data": {
      "image/png": "[encoded data removed]",
      "text/plain": [
       "<Figure size 432x288 with 1 Axes>"
      ]
     },
     "metadata": {
      "needs_background": "light"
     },
     "output_type": "display_data"
    }
   ],
   "source": [
    "Error =[]\n",
    "for i in range(1, 11):\n",
    "    kmeans = KMeans(n_clusters = i).fit(kmdf)\n",
    "    kmeans.fit(kmdf)\n",
    "    Error.append(kmeans.inertia_)\n",
    "import matplotlib.pyplot as plt\n",
    "plt.plot(range(1, 11), Error)\n",
    "plt.title('Elbow method')\n",
    "plt.xlabel('No of clusters')\n",
    "plt.ylabel('Error')\n",
    "plt.show()"
   ]
  },
  {
   "cell_type": "code",
   "execution_count": 851,
   "metadata": {},
   "outputs": [],
   "source": [
    "km = KMeans(n_clusters=4)\n",
    "y_kmeans=km.fit_predict(kmdf)"
   ]
  },
  {
   "cell_type": "code",
   "execution_count": 853,
   "metadata": {},
   "outputs": [
    {
     "data": {
      "text/html": [
       "<div>\n",
       "<style scoped>\n",
       "    .dataframe tbody tr th:only-of-type {\n",
       "        vertical-align: middle;\n",
       "    }\n",
       "\n",
       "    .dataframe tbody tr th {\n",
       "        vertical-align: top;\n",
       "    }\n",
       "\n",
       "    .dataframe thead th {\n",
       "        text-align: right;\n",
       "    }\n",
       "</style>\n",
       "<table border=\"1\" class=\"dataframe\">\n",
       "  <thead>\n",
       "    <tr style=\"text-align: right;\">\n",
       "      <th></th>\n",
       "      <th>appopens</th>\n",
       "      <th>vids_complete</th>\n",
       "      <th>num_vids_30sec</th>\n",
       "      <th>series_starts</th>\n",
       "      <th>mssgs</th>\n",
       "    </tr>\n",
       "  </thead>\n",
       "  <tbody>\n",
       "    <tr>\n",
       "      <th>2</th>\n",
       "      <td>4.803319</td>\n",
       "      <td>6.453395</td>\n",
       "      <td>17.232909</td>\n",
       "      <td>0.809587</td>\n",
       "      <td>2.434218</td>\n",
       "    </tr>\n",
       "    <tr>\n",
       "      <th>0</th>\n",
       "      <td>18.330798</td>\n",
       "      <td>26.114018</td>\n",
       "      <td>50.370566</td>\n",
       "      <td>6.073602</td>\n",
       "      <td>4.923056</td>\n",
       "    </tr>\n",
       "    <tr>\n",
       "      <th>1</th>\n",
       "      <td>27.534439</td>\n",
       "      <td>62.692805</td>\n",
       "      <td>72.587569</td>\n",
       "      <td>12.650141</td>\n",
       "      <td>7.672577</td>\n",
       "    </tr>\n",
       "    <tr>\n",
       "      <th>3</th>\n",
       "      <td>93.716990</td>\n",
       "      <td>63.738064</td>\n",
       "      <td>73.686153</td>\n",
       "      <td>13.114895</td>\n",
       "      <td>8.638647</td>\n",
       "    </tr>\n",
       "  </tbody>\n",
       "</table>\n",
       "</div>"
      ],
      "text/plain": [
       "    appopens  vids_complete  num_vids_30sec  series_starts     mssgs\n",
       "2   4.803319       6.453395       17.232909       0.809587  2.434218\n",
       "0  18.330798      26.114018       50.370566       6.073602  4.923056\n",
       "1  27.534439      62.692805       72.587569      12.650141  7.672577\n",
       "3  93.716990      63.738064       73.686153      13.114895  8.638647"
      ]
     },
     "execution_count": 853,
     "metadata": {},
     "output_type": "execute_result"
    }
   ],
   "source": [
    "pd.DataFrame(km.cluster_centers_, columns = kmdf.columns).sort_values(by='appopens')"
   ]
  },
  {
   "cell_type": "markdown",
   "metadata": {},
   "source": [
    "# Churn Modelling"
   ]
  },
  {
   "cell_type": "code",
   "execution_count": 375,
   "metadata": {},
   "outputs": [],
   "source": [
    "pickle_in = open(\"subscribers\",\"rb\")\n",
    "subs = pickle.load(pickle_in)\n",
    "pickle_in = open(\"engagement\",\"rb\")\n",
    "eng = pickle.load(pickle_in)\n",
    "pickle_in = open(\"customer_service_reps\",\"rb\")\n",
    "csr = pickle.load(pickle_in)"
   ]
  },
  {
   "cell_type": "code",
   "execution_count": 376,
   "metadata": {},
   "outputs": [],
   "source": [
    "#return with only subscribers with engagement data\n",
    "csr=csr[csr.subid.isin(eng.subid)]"
   ]
  },
  {
   "cell_type": "code",
   "execution_count": 377,
   "metadata": {},
   "outputs": [],
   "source": [
    "#find max payment period for each subscriber\n",
    "df=csr.groupby('subid')['payment_period'].max().reset_index(name='max_period')\n",
    "df2=pd.merge(df,csr,on=['subid'])\n",
    "\n",
    "#get subscribers that aren't current subscribers and in period 1 currently\n",
    "df2=df2[~((df2.max_period==1) & (df2.current_sub_TF==True))]"
   ]
  },
  {
   "cell_type": "code",
   "execution_count": 380,
   "metadata": {},
   "outputs": [],
   "source": [
    "csr=csr[csr.subid.isin(df2.subid)]"
   ]
  },
  {
   "cell_type": "code",
   "execution_count": 381,
   "metadata": {},
   "outputs": [],
   "source": [
    "#remapping NA in renew column\n",
    "csr['renew']=np.where(csr.next_payment.isna()==False,True,False)\n",
    "\n",
    "#return only info from 1st period in csr\n",
    "csr=csr[csr.payment_period==1]\n",
    "\n",
    "#return only csr info for users who didn't ask for refund after trial\n",
    "csr=csr[csr.subid.isin(subs[subs.refund_after_trial_TF==False].subid)]"
   ]
  },
  {
   "cell_type": "code",
   "execution_count": 384,
   "metadata": {},
   "outputs": [],
   "source": [
    "#return engagement data for non-NA and users in csr and data not from trial period\n",
    "eng = eng[(eng['app_opens'].notna()) & (eng.subid.isin(csr.subid)) & (eng.payment_period!=0)]"
   ]
  },
  {
   "cell_type": "code",
   "execution_count": 392,
   "metadata": {},
   "outputs": [],
   "source": [
    "#create features to roll up to subscriber level\n",
    "\n",
    "df=eng.groupby(['subid']).agg(\n",
    "    days=('date','nunique'),\n",
    "    appopens=('app_opens','sum'),\n",
    "    vids_complete=('num_videos_completed','sum'),\n",
    "    num_vids_30sec=('num_videos_more_than_30_seconds','sum'),\n",
    "    num_vids_rated=('num_videos_rated','sum'),\n",
    "    series_starts=('num_series_started','sum'),\n",
    "    max_date=('date','max'),\n",
    "    min_date=('date','min'),\n",
    "    mssgs=('cust_service_mssgs','sum')\n",
    ").reset_index()\n",
    "\n",
    "df['duration']=(df.max_date-df.min_date).dt.days+1\n",
    "df['opensperday']=df.appopens/df.days\n",
    "df['perc_complete'] = df.apply(lambda x: 0 if x['num_vids_30sec']==0 else x['vids_complete']/x['num_vids_30sec'], axis=1)\n",
    "df['perc_rate'] = df.apply(lambda x: 0 if x['vids_complete']==0 else x['num_vids_rated']/x['vids_complete'], axis=1)\n",
    "df['seriesperopen'] = df.apply(lambda x: 0 if x['appopens']==0 else x['series_starts']/x['appopens'], axis=1)\n",
    "df['vidscompperday']=df.vids_complete/df.days\n",
    "df['vidswatchperday']=df.num_vids_30sec/df.days\n",
    "df['seriesperday']=df.series_starts/df.days\n",
    "df['opensperduration']=df.appopens/df.duration\n",
    "df['vidscompperduration']=df.vids_complete/df.duration\n",
    "df['seriesperduration']=df.series_starts/df.duration\n",
    "df['mssgsperday']=df.mssgs/df.days\n",
    "df['mssgsperduration']=df.mssgs/df.duration\n",
    "df['perc_mssgs_start']=df.apply(lambda x: 0 if x['num_vids_30sec']==0 else x['mssgs']/x['num_vids_30sec'], axis=1)\n",
    "df['perc_mssgs_comp'] = df.apply(lambda x: 0 if x['vids_complete']==0 else x['mssgs']/x['vids_complete'], axis=1)\n",
    "df['mssgsperopen'] = df.apply(lambda x: 0 if x['appopens']==0 else x['mssgs']/x['appopens'], axis=1)\n",
    "df['daysperduration']=df.days/df.duration\n",
    "df['weighted_vids']=df.vids_complete*df.daysperduration\n",
    "df['weighted_starts']=df.num_vids_30sec*df.daysperduration\n",
    "df['weighted_mssgs']=df.mssgs*df.daysperduration"
   ]
  },
  {
   "cell_type": "code",
   "execution_count": 394,
   "metadata": {},
   "outputs": [],
   "source": [
    "df_se=pd.merge(subs,df,on=['subid'])\n",
    "df_mod=pd.merge(df_se,csr,on=['subid'])"
   ]
  },
  {
   "cell_type": "code",
   "execution_count": 395,
   "metadata": {},
   "outputs": [],
   "source": [
    "#add column with difference in prices\n",
    "df_mod['price_diff']=df_mod.monthly_price-df_mod.discount_price\n",
    "df_mod['male_TF']=df_mod['male_TF'].astype(int)"
   ]
  },
  {
   "cell_type": "code",
   "execution_count": 398,
   "metadata": {},
   "outputs": [],
   "source": [
    "#get dataset for training/testing\n",
    "\n",
    "X=df_mod[['opensperday', 'perc_complete', 'perc_rate',\n",
    "       'seriesperopen', 'vidscompperday', 'vidswatchperday', 'seriesperday',\n",
    "       'opensperduration', 'vidscompperduration', 'seriesperduration',\n",
    "       'mssgsperday', 'mssgsperduration', 'perc_mssgs_start',\n",
    "       'perc_mssgs_comp', 'mssgsperopen', 'weighted_vids',\n",
    "       'weighted_starts', 'weighted_mssgs']]"
   ]
  },
  {
   "cell_type": "code",
   "execution_count": 400,
   "metadata": {},
   "outputs": [],
   "source": [
    "#remove correlated columns\n",
    "corr_matrix = X.corr().abs()\n",
    "upper = corr_matrix.where(np.triu(np.ones(corr_matrix.shape), k=1).astype(np.bool))\n",
    "to_drop = [column for column in upper.columns if any(upper[column] > 0.8)]\n",
    "X=X.drop(X[to_drop], axis=1)"
   ]
  },
  {
   "cell_type": "code",
   "execution_count": 401,
   "metadata": {},
   "outputs": [],
   "source": [
    "#split/train; reassign 1 to mean churn and 0 to mean renew\n",
    "y = df_mod['renew']\n",
    "y= y.replace(False,0)\n",
    "y=y.replace(True,1)\n",
    "y=abs(y-1)\n",
    " \n",
    "X_train,X_test,y_train,y_test=train_test_split(X,y,test_size=0.3,random_state=0)"
   ]
  },
  {
   "cell_type": "code",
   "execution_count": 164,
   "metadata": {},
   "outputs": [],
   "source": [
    "#import necessary packages\n",
    "from sklearn.model_selection import train_test_split\n",
    "from sklearn.model_selection import GridSearchCV\n",
    "from sklearn.preprocessing import StandardScaler\n",
    "from sklearn.linear_model import LogisticRegression\n",
    "from sklearn import metrics"
   ]
  },
  {
   "cell_type": "code",
   "execution_count": 341,
   "metadata": {},
   "outputs": [],
   "source": [
    "X_train_lr=X_train.copy()\n",
    "X_test_lr=X_test.copy()"
   ]
  },
  {
   "cell_type": "code",
   "execution_count": 342,
   "metadata": {},
   "outputs": [],
   "source": [
    "scaler = StandardScaler()\n",
    "\n",
    "X_train_lr= scaler.fit_transform(X_train_lr)\n",
    "X_test_lr = scaler.transform(X_test_lr)"
   ]
  },
  {
   "cell_type": "code",
   "execution_count": 343,
   "metadata": {
    "collapsed": true
   },
   "outputs": [
    {
     "name": "stderr",
     "output_type": "stream",
     "text": [
      "/Users/raywu/anaconda3/lib/python3.7/site-packages/sklearn/model_selection/_split.py:1978: FutureWarning: The default value of cv will change from 3 to 5 in version 0.22. Specify it explicitly to silence this warning.\n",
      "  warnings.warn(CV_WARNING, FutureWarning)\n",
      "/Users/raywu/anaconda3/lib/python3.7/site-packages/sklearn/linear_model/logistic.py:432: FutureWarning: Default solver will be changed to 'lbfgs' in 0.22. Specify a solver to silence this warning.\n",
      "  FutureWarning)\n",
      "/Users/raywu/anaconda3/lib/python3.7/site-packages/sklearn/linear_model/logistic.py:432: FutureWarning: Default solver will be changed to 'lbfgs' in 0.22. Specify a solver to silence this warning.\n",
      "  FutureWarning)\n",
      "/Users/raywu/anaconda3/lib/python3.7/site-packages/sklearn/linear_model/logistic.py:432: FutureWarning: Default solver will be changed to 'lbfgs' in 0.22. Specify a solver to silence this warning.\n",
      "  FutureWarning)\n",
      "/Users/raywu/anaconda3/lib/python3.7/site-packages/sklearn/linear_model/logistic.py:432: FutureWarning: Default solver will be changed to 'lbfgs' in 0.22. Specify a solver to silence this warning.\n",
      "  FutureWarning)\n",
      "/Users/raywu/anaconda3/lib/python3.7/site-packages/sklearn/linear_model/logistic.py:432: FutureWarning: Default solver will be changed to 'lbfgs' in 0.22. Specify a solver to silence this warning.\n",
      "  FutureWarning)\n",
      "/Users/raywu/anaconda3/lib/python3.7/site-packages/sklearn/linear_model/logistic.py:432: FutureWarning: Default solver will be changed to 'lbfgs' in 0.22. Specify a solver to silence this warning.\n",
      "  FutureWarning)\n",
      "/Users/raywu/anaconda3/lib/python3.7/site-packages/sklearn/linear_model/logistic.py:432: FutureWarning: Default solver will be changed to 'lbfgs' in 0.22. Specify a solver to silence this warning.\n",
      "  FutureWarning)\n",
      "/Users/raywu/anaconda3/lib/python3.7/site-packages/sklearn/linear_model/logistic.py:432: FutureWarning: Default solver will be changed to 'lbfgs' in 0.22. Specify a solver to silence this warning.\n",
      "  FutureWarning)\n",
      "/Users/raywu/anaconda3/lib/python3.7/site-packages/sklearn/linear_model/logistic.py:432: FutureWarning: Default solver will be changed to 'lbfgs' in 0.22. Specify a solver to silence this warning.\n",
      "  FutureWarning)\n",
      "/Users/raywu/anaconda3/lib/python3.7/site-packages/sklearn/linear_model/logistic.py:432: FutureWarning: Default solver will be changed to 'lbfgs' in 0.22. Specify a solver to silence this warning.\n",
      "  FutureWarning)\n",
      "/Users/raywu/anaconda3/lib/python3.7/site-packages/sklearn/linear_model/logistic.py:432: FutureWarning: Default solver will be changed to 'lbfgs' in 0.22. Specify a solver to silence this warning.\n",
      "  FutureWarning)\n",
      "/Users/raywu/anaconda3/lib/python3.7/site-packages/sklearn/linear_model/logistic.py:432: FutureWarning: Default solver will be changed to 'lbfgs' in 0.22. Specify a solver to silence this warning.\n",
      "  FutureWarning)\n",
      "/Users/raywu/anaconda3/lib/python3.7/site-packages/sklearn/linear_model/logistic.py:432: FutureWarning: Default solver will be changed to 'lbfgs' in 0.22. Specify a solver to silence this warning.\n",
      "  FutureWarning)\n"
     ]
    },
    {
     "name": "stdout",
     "output_type": "stream",
     "text": [
      "{'C': 0.1}\n",
      "best score is: 0.5834104959150493\n"
     ]
    },
    {
     "name": "stderr",
     "output_type": "stream",
     "text": [
      "/Users/raywu/anaconda3/lib/python3.7/site-packages/sklearn/linear_model/logistic.py:432: FutureWarning: Default solver will be changed to 'lbfgs' in 0.22. Specify a solver to silence this warning.\n",
      "  FutureWarning)\n",
      "/Users/raywu/anaconda3/lib/python3.7/site-packages/sklearn/linear_model/logistic.py:432: FutureWarning: Default solver will be changed to 'lbfgs' in 0.22. Specify a solver to silence this warning.\n",
      "  FutureWarning)\n",
      "/Users/raywu/anaconda3/lib/python3.7/site-packages/sklearn/linear_model/logistic.py:432: FutureWarning: Default solver will be changed to 'lbfgs' in 0.22. Specify a solver to silence this warning.\n",
      "  FutureWarning)\n",
      "/Users/raywu/anaconda3/lib/python3.7/site-packages/sklearn/linear_model/logistic.py:432: FutureWarning: Default solver will be changed to 'lbfgs' in 0.22. Specify a solver to silence this warning.\n",
      "  FutureWarning)\n",
      "/Users/raywu/anaconda3/lib/python3.7/site-packages/sklearn/linear_model/logistic.py:432: FutureWarning: Default solver will be changed to 'lbfgs' in 0.22. Specify a solver to silence this warning.\n",
      "  FutureWarning)\n",
      "/Users/raywu/anaconda3/lib/python3.7/site-packages/sklearn/linear_model/logistic.py:432: FutureWarning: Default solver will be changed to 'lbfgs' in 0.22. Specify a solver to silence this warning.\n",
      "  FutureWarning)\n"
     ]
    }
   ],
   "source": [
    "#Logistic Regression \n",
    "\n",
    "clf = LogisticRegression(random_state=0)\n",
    "\n",
    "param_test = {\n",
    "        'C': [0.001,0.01,0.1,1,10,100]\n",
    "    }\n",
    "\n",
    "gsearch = GridSearchCV(clf, param_grid = param_test, scoring='roc_auc')\n",
    "gsearch.fit(X_train_lr,y_train)\n",
    "\n",
    "print(gsearch.best_params_)\n",
    "print('best score is:',str(gsearch.best_score_))"
   ]
  },
  {
   "cell_type": "code",
   "execution_count": 344,
   "metadata": {},
   "outputs": [
    {
     "name": "stdout",
     "output_type": "stream",
     "text": [
      "[[1681 2563]\n",
      " [1230 3757]]\n",
      "Accuracy: 0.589102\n",
      "Recall: 0.753359\n",
      "Precision: 0.594462\n",
      "F1 Score: 0.664544\n",
      "AUC: 0.605121\n"
     ]
    },
    {
     "name": "stderr",
     "output_type": "stream",
     "text": [
      "/Users/raywu/anaconda3/lib/python3.7/site-packages/sklearn/linear_model/logistic.py:432: FutureWarning: Default solver will be changed to 'lbfgs' in 0.22. Specify a solver to silence this warning.\n",
      "  FutureWarning)\n"
     ]
    }
   ],
   "source": [
    "clf = LogisticRegression(C=0.1).fit(X_train_lr, y_train)\n",
    "y_pred = clf.predict(X_test_lr)\n",
    "cnf_matrix = metrics.confusion_matrix(y_test, y_pred)\n",
    "fpr, tpr, threshold = metrics.roc_curve(y_test, clf.predict_proba(X_test_lr)[:,1])\n",
    "roc_auc = metrics.auc(fpr, tpr)\n",
    "print(cnf_matrix)\n",
    "print('Accuracy: %f' % metrics.accuracy_score(y_test,y_pred))\n",
    "print('Recall: %f' % (metrics.recall_score(y_test,y_pred)))\n",
    "print('Precision: %f' % (metrics.precision_score(y_test,y_pred)))\n",
    "print('F1 Score: %f' % (metrics.f1_score(y_test,y_pred)))\n",
    "print('AUC: %f' % roc_auc)"
   ]
  },
  {
   "cell_type": "code",
   "execution_count": 345,
   "metadata": {},
   "outputs": [
    {
     "data": {
      "image/png": "[encoded data removed]",
      "text/plain": [
       "<Figure size 432x288 with 1 Axes>"
      ]
     },
     "metadata": {
      "needs_background": "light"
     },
     "output_type": "display_data"
    }
   ],
   "source": [
    "fpr, tpr, threshold = metrics.roc_curve(y_test, clf.predict_proba(X_test_lr)[:,1])\n",
    "roc_auc = metrics.auc(fpr, tpr)\n",
    "import matplotlib.pyplot as plt\n",
    "plt.title('Receiver Operating Characteristic')\n",
    "plt.plot(fpr, tpr, 'b', label = 'AUC = %0.2f' % roc_auc)\n",
    "plt.legend(loc = 'lower right')\n",
    "plt.plot([0, 1], [0, 1],'r--')\n",
    "plt.xlim([0, 1])\n",
    "plt.ylim([0, 1])\n",
    "plt.ylabel('True Positive Rate')\n",
    "plt.xlabel('False Positive Rate')\n",
    "plt.show()"
   ]
  },
  {
   "cell_type": "code",
   "execution_count": 192,
   "metadata": {},
   "outputs": [],
   "source": [
    "#import necessary packages\n",
    "from sklearn.model_selection import train_test_split\n",
    "from sklearn.model_selection import GridSearchCV\n",
    "from sklearn.tree import DecisionTreeClassifier\n",
    "from sklearn import metrics"
   ]
  },
  {
   "cell_type": "code",
   "execution_count": 403,
   "metadata": {},
   "outputs": [
    {
     "name": "stderr",
     "output_type": "stream",
     "text": [
      "/Users/raywu/anaconda3/lib/python3.7/site-packages/sklearn/model_selection/_split.py:1978: FutureWarning: The default value of cv will change from 3 to 5 in version 0.22. Specify it explicitly to silence this warning.\n",
      "  warnings.warn(CV_WARNING, FutureWarning)\n"
     ]
    },
    {
     "name": "stdout",
     "output_type": "stream",
     "text": [
      "{'max_depth': 8}\n",
      "best score is: 0.9119145334732062\n"
     ]
    }
   ],
   "source": [
    "#Decision Tree\n",
    "\n",
    "clf = DecisionTreeClassifier()\n",
    "\n",
    "param_test = {\n",
    "        'max_depth': [1,2,3,4,5,6,7,8,9,10]\n",
    "    }\n",
    "\n",
    "gsearch = GridSearchCV(clf, param_grid = param_test, scoring='roc_auc')\n",
    "gsearch.fit(X_train,y_train)\n",
    "\n",
    "print(gsearch.best_params_)\n",
    "print('best score is:',str(gsearch.best_score_))"
   ]
  },
  {
   "cell_type": "code",
   "execution_count": 404,
   "metadata": {},
   "outputs": [
    {
     "name": "stdout",
     "output_type": "stream",
     "text": [
      "Accuracy of Decision Tree classifier on training set: 0.84\n",
      "Accuracy of Decision Tree classifier on test set: 0.84\n",
      "\n",
      "[[3292  952]\n",
      " [ 525 4462]]\n",
      "Accuracy: 0.839996\n",
      "Recall: 0.894726\n",
      "Precision: 0.824160\n",
      "F1 Score: 0.857994\n"
     ]
    }
   ],
   "source": [
    "clf = DecisionTreeClassifier(max_depth=8).fit(X_train, y_train)\n",
    "\n",
    "print('Accuracy of Decision Tree classifier on training set: {:.2f}'\n",
    "      .format(clf.score(X_train, y_train)))\n",
    "print('Accuracy of Decision Tree classifier on test set: {:.2f}\\n'\n",
    "      .format(clf.score(X_test, y_test)))\n",
    "\n",
    "y_pred = clf.predict(X_test)\n",
    "cnf_matrix = metrics.confusion_matrix(y_test, y_pred)\n",
    "print(cnf_matrix)\n",
    "print('Accuracy: %f' % metrics.accuracy_score(y_test,y_pred))\n",
    "print('Recall: %f' % (metrics.recall_score(y_test,y_pred)))\n",
    "print('Precision: %f' % (metrics.precision_score(y_test,y_pred)))\n",
    "print('F1 Score: %f' % (metrics.f1_score(y_test,y_pred)))"
   ]
  },
  {
   "cell_type": "code",
   "execution_count": 407,
   "metadata": {},
   "outputs": [
    {
     "data": {
      "image/png": "[encoded data removed]",
      "text/plain": [
       "<Figure size 432x288 with 1 Axes>"
      ]
     },
     "metadata": {
      "needs_background": "light"
     },
     "output_type": "display_data"
    }
   ],
   "source": [
    "fpr, tpr, threshold = metrics.roc_curve(y_test, clf.predict_proba(X_test)[:,1])\n",
    "roc_auc = metrics.auc(fpr, tpr)\n",
    "import matplotlib.pyplot as plt\n",
    "plt.title('ROC Curve')\n",
    "plt.plot(fpr, tpr, 'b', label = 'AUC = %0.2f' % roc_auc)\n",
    "plt.legend(loc = 'lower right')\n",
    "plt.plot([0, 1], [0, 1],'r--')\n",
    "plt.xlim([0, 1])\n",
    "plt.ylim([0, 1])\n",
    "plt.ylabel('True Positive Rate')\n",
    "plt.xlabel('False Positive Rate')\n",
    "plt.show()"
   ]
  },
  {
   "cell_type": "code",
   "execution_count": 408,
   "metadata": {},
   "outputs": [
    {
     "name": "stdout",
     "output_type": "stream",
     "text": [
      "('opensperday', 0.007530139109000436)\n",
      "('perc_complete', 0.005792025948668418)\n",
      "('perc_rate', 0.0006315352495711269)\n",
      "('seriesperopen', 0.0035152831405880084)\n",
      "('vidswatchperday', 0.39376163618634885)\n",
      "('seriesperday', 0.004577775682096763)\n",
      "('mssgsperday', 0.22384034108649)\n",
      "('perc_mssgs_comp', 0.029137991790111777)\n",
      "('weighted_mssgs', 0.3312132718071246)\n"
     ]
    }
   ],
   "source": [
    "#feature importance\n",
    "for i in zip(X_train.columns, clf.feature_importances_):\n",
    "    print(i)"
   ]
  },
  {
   "cell_type": "code",
   "execution_count": 412,
   "metadata": {},
   "outputs": [],
   "source": [
    "#assign churn probabilities for each user\n",
    "ch_prob = clf.predict_proba(X)[:,1]\n",
    "ch_pred = clf.predict(X)"
   ]
  },
  {
   "cell_type": "code",
   "execution_count": 496,
   "metadata": {},
   "outputs": [],
   "source": [
    "#Determing churn/not churn based on chosen decision threshold\n",
    "df_mod['probs'] = ch_prob\n",
    "df_mod['pred'] = np.where(df_mod.probs>=0.67,1,0)\n",
    "df_mod['promo_price'] = df_mod.discount_price * 0.7"
   ]
  },
  {
   "cell_type": "code",
   "execution_count": 712,
   "metadata": {},
   "outputs": [],
   "source": [
    "#obtain various metrics after simulating 50 times\n",
    "#rev_base = base revenue if no action is taken (revenue from renewed only)\n",
    "#rev_base_offer = revenue from those identified as churn but would have renewed anyway\n",
    "#churn_responds = number of people who were identified as churn and accepted retention offer\n",
    "#churn_responds_revenue = revenue from the churn_responds subscribers\n",
    "#total=rev_base + rev_base_offer + churn_responds_revenue\n",
    "def proforma(threshold):\n",
    "    test=[]\n",
    "    df_mod['pred'] = np.where(df_mod.probs>=threshold,1,0)\n",
    "    for i in range(50):\n",
    "        prob_offer=[]\n",
    "        for index, row in df_mod.iterrows():\n",
    "            if (row['pred']==1 and row['renew']==False):\n",
    "                prob_offer.append(random.random())\n",
    "            else:\n",
    "                prob_offer.append(-1)\n",
    "    \n",
    "        df_mod['yes_offer']=prob_offer\n",
    "        \n",
    "        rev_base=df_mod[(df_mod.renew==True) & (df_mod.pred==0)].discount_price.sum()\n",
    "        rev_base_offer=df_mod[(df_mod.renew==True) & (df_mod.pred==1)].promo_price.sum()\n",
    "        churn_responds=df_mod[df_mod.yes_offer>=0.7].shape[0]\n",
    "        churn_responds_revenue=df_mod[df_mod.yes_offer>=0.7].promo_price.sum()\n",
    "        total=rev_base+rev_base_offer+churn_responds_revenue\n",
    "        test.append([rev_base,rev_base_offer,churn_responds,churn_responds_revenue,total])\n",
    "    df_test=pd.DataFrame(test)\n",
    "    return df_test.mean(axis=0)"
   ]
  },
  {
   "cell_type": "code",
   "execution_count": 713,
   "metadata": {},
   "outputs": [
    {
     "data": {
      "text/plain": [
       "0    61952.792900\n",
       "1     1071.915250\n",
       "2     2619.080000\n",
       "3     8274.497238\n",
       "4    71299.205388\n",
       "dtype: float64"
      ]
     },
     "execution_count": 713,
     "metadata": {},
     "output_type": "execute_result"
    }
   ],
   "source": [
    "proforma(0.9)"
   ]
  },
  {
   "cell_type": "markdown",
   "metadata": {},
   "source": [
    "# LTV calculation"
   ]
  },
  {
   "cell_type": "code",
   "execution_count": 542,
   "metadata": {},
   "outputs": [],
   "source": [
    "pickle_in = open(\"subscribers\",\"rb\")\n",
    "subs = pickle.load(pickle_in)\n",
    "pickle_in = open(\"engagement\",\"rb\")\n",
    "eng = pickle.load(pickle_in)\n",
    "pickle_in = open(\"customer_service_reps\",\"rb\")\n",
    "csr = pickle.load(pickle_in)\n",
    "ads=pd.read_csv('adspend.csv')"
   ]
  },
  {
   "cell_type": "code",
   "execution_count": 543,
   "metadata": {},
   "outputs": [],
   "source": [
    "#change adspend data layout\n",
    "\n",
    "ads=ads.set_index('date')\n",
    "ads=ads.stack().reset_index().rename(columns={'date':'months','level_1':'channel',0:'cost'})\n",
    "ads['cost']=ads.cost.str.replace(\",\",\"\").astype(float)\n",
    "\n",
    "#convert dates to month for merging\n",
    "ads['months']=pd.to_datetime(ads['months'])\n",
    "ads['months']=ads.months.dt.month"
   ]
  },
  {
   "cell_type": "code",
   "execution_count": 546,
   "metadata": {},
   "outputs": [],
   "source": [
    "#adjust June cost for only 1 day in month \n",
    "ads['cost']=np.where(ads.months==6,ads.cost/30,ads.cost)\n",
    "total_cost=ads.cost.sum()"
   ]
  },
  {
   "cell_type": "code",
   "execution_count": 553,
   "metadata": {},
   "outputs": [],
   "source": [
    "#proportion of subscribers in subs that came from one of the 8 channels\n",
    "extrap=subs[(subs.attribution_technical.isin(ads.channel)) & (subs.retarget_TF==False)].shape[0]/subs.shape[0]\n",
    "\n",
    "#average cost taken from csr total unique subscribers * 'expected' percentage coming from 8 channels\n",
    "average_cac=total_cost/(csr.subid.nunique()*extrap)"
   ]
  },
  {
   "cell_type": "code",
   "execution_count": 557,
   "metadata": {},
   "outputs": [],
   "source": [
    "#return with only subscribers with engagement data\n",
    "csr=csr[csr.subid.isin(eng.subid)]"
   ]
  },
  {
   "cell_type": "code",
   "execution_count": 558,
   "metadata": {},
   "outputs": [],
   "source": [
    "#get max payment period for each subscriber\n",
    "df=csr.groupby('subid')['payment_period'].max().reset_index(name='max_period')\n",
    "df2=pd.merge(df,csr,on=['subid'])\n",
    "\n",
    "#get subscribers who are current subscribers and in period 1\n",
    "df2=df2[(df2.max_period==1) & (df2.current_sub_TF==True)]"
   ]
  },
  {
   "cell_type": "code",
   "execution_count": 561,
   "metadata": {},
   "outputs": [],
   "source": [
    "csr=csr[csr.subid.isin(df2.subid)]\n",
    "\n",
    "#return only info from 1st period in csr\n",
    "csr=csr[csr.payment_period==1]\n",
    "\n",
    "#return only csr info for users who didn't ask for refund after trial\n",
    "csr=csr[csr.subid.isin(subs[subs.refund_after_trial_TF==False].subid)]"
   ]
  },
  {
   "cell_type": "code",
   "execution_count": 571,
   "metadata": {},
   "outputs": [],
   "source": [
    "#return engagement data for non-NA and users in csr and data not from trial period\n",
    "eng = eng[(eng['app_opens'].notna()) & (eng.subid.isin(csr.subid)) & (eng.payment_period!=0)]"
   ]
  },
  {
   "cell_type": "code",
   "execution_count": 573,
   "metadata": {},
   "outputs": [],
   "source": [
    "#create features to roll up to subscriber level\n",
    "df=eng.groupby(['subid']).agg(\n",
    "    days=('date','nunique'),\n",
    "    appopens=('app_opens','sum'),\n",
    "    vids_complete=('num_videos_completed','sum'),\n",
    "    num_vids_30sec=('num_videos_more_than_30_seconds','sum'),\n",
    "    num_vids_rated=('num_videos_rated','sum'),\n",
    "    series_starts=('num_series_started','sum'),\n",
    "    max_date=('date','max'),\n",
    "    min_date=('date','min'),\n",
    "    mssgs=('cust_service_mssgs','sum')\n",
    ").reset_index()\n",
    "\n",
    "df['duration']=(df.max_date-df.min_date).dt.days+1\n",
    "df['daysperduration']=df.days/df.duration\n",
    "df['opensperday']=df.appopens/df.days\n",
    "df['perc_complete'] = df.apply(lambda x: 0 if x['num_vids_30sec']==0 else x['vids_complete']/x['num_vids_30sec'], axis=1)\n",
    "df['perc_rate'] = df.apply(lambda x: 0 if x['vids_complete']==0 else x['num_vids_rated']/x['vids_complete'], axis=1)\n",
    "df['seriesperopen'] = df.apply(lambda x: 0 if x['appopens']==0 else x['series_starts']/x['appopens'], axis=1)\n",
    "df['vidswatchperday']=df.num_vids_30sec/df.days\n",
    "df['seriesperday']=df.series_starts/df.days\n",
    "df['mssgsperday']=df.mssgs/df.days\n",
    "df['perc_mssgs_comp'] = df.apply(lambda x: 0 if x['vids_complete']==0 else x['mssgs']/x['vids_complete'], axis=1)\n",
    "df['weighted_mssgs']=df.mssgs*df.daysperduration"
   ]
  },
  {
   "cell_type": "code",
   "execution_count": 577,
   "metadata": {},
   "outputs": [],
   "source": [
    "#merge datasets\n",
    "df_sd=pd.merge(subs,df,on=['subid'])\n",
    "df_clv=pd.merge(df_sd,csr,on=['subid'])"
   ]
  },
  {
   "cell_type": "code",
   "execution_count": 586,
   "metadata": {},
   "outputs": [],
   "source": [
    "#get dataset to input into the decision tree model\n",
    "df_clvmod=df_clv[['opensperday', 'perc_complete', 'perc_rate',\n",
    "       'seriesperopen', 'vidswatchperday', 'seriesperday', 'mssgsperday',\n",
    "       'perc_mssgs_comp', 'weighted_mssgs']]"
   ]
  },
  {
   "cell_type": "code",
   "execution_count": 589,
   "metadata": {},
   "outputs": [],
   "source": [
    "#assign churn probability to each subscriber\n",
    "clv_prob=clf.predict_proba(df_clvmod)[:,1]\n",
    "df_clv['prob_churn']=clv_prob"
   ]
  },
  {
   "cell_type": "code",
   "execution_count": 607,
   "metadata": {},
   "outputs": [],
   "source": [
    "#calculate CLV\n",
    "\n",
    "disc_rate=((1+0.1)**(1/3))-1\n",
    "df_clv['clv']=(df_clv.discount_price*4)*((1+disc_rate)/(1+disc_rate-(1-df_clv.prob_churn)))-average_cac"
   ]
  },
  {
   "cell_type": "code",
   "execution_count": 621,
   "metadata": {},
   "outputs": [
    {
     "data": {
      "text/plain": [
       "(array([6.332e+03, 4.087e+03, 1.253e+03, 1.036e+03, 1.292e+03, 1.019e+03,\n",
       "        6.370e+02, 1.271e+03, 0.000e+00, 2.700e+01, 0.000e+00, 0.000e+00,\n",
       "        4.600e+01, 2.000e+00, 2.385e+03]),\n",
       " array([15., 17., 19., 21., 23., 25., 27., 29., 31., 33., 35., 37., 39.,\n",
       "        41., 43., 45.]),\n",
       " <a list of 15 Patch objects>)"
      ]
     },
     "execution_count": 621,
     "metadata": {},
     "output_type": "execute_result"
    },
    {
     "data": {
      "image/png": "[encoded data removed]",
      "text/plain": [
       "<Figure size 432x288 with 1 Axes>"
      ]
     },
     "metadata": {
      "needs_background": "light"
     },
     "output_type": "display_data"
    }
   ],
   "source": [
    "#plot distribution of CLV\n",
    "plt.hist(df_clv.clv,bins=np.linspace(15,45,16),ec='black')"
   ]
  }
 ],
 "metadata": {
  "kernelspec": {
   "display_name": "Python 3",
   "language": "python",
   "name": "python3"
  },
  "language_info": {
   "codemirror_mode": {
    "name": "ipython",
    "version": 3
   },
   "file_extension": ".py",
   "mimetype": "text/x-python",
   "name": "python",
   "nbconvert_exporter": "python",
   "pygments_lexer": "ipython3",
   "version": "3.7.3"
  }
 },
 "nbformat": 4,
 "nbformat_minor": 2
}
